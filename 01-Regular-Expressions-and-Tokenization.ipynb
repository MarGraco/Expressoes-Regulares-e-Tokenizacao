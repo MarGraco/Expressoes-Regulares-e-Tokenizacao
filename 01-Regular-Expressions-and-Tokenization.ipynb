{
 "cells": [
  {
   "cell_type": "code",
   "execution_count": 1,
   "id": "cfaf5095",
   "metadata": {},
   "outputs": [],
   "source": [
    "import re\n",
    "from pprint import pprint"
   ]
  },
  {
   "cell_type": "code",
   "execution_count": 2,
   "id": "9de356ca",
   "metadata": {},
   "outputs": [
    {
     "data": {
      "text/plain": [
       "['Let', 's', 'write', 'RegEx']"
      ]
     },
     "execution_count": 2,
     "metadata": {},
     "output_type": "execute_result"
    }
   ],
   "source": [
    "my_string = \"Let's write RegEx!\"\n",
    "PATTERN = r\"\\w+\"\n",
    "re.findall(PATTERN, my_string)"
   ]
  },
  {
   "cell_type": "code",
   "execution_count": 3,
   "id": "cf7cd706",
   "metadata": {},
   "outputs": [],
   "source": [
    "my_string = \"Let's write RegEx!  Won't that be fun?  I sure think so.  Can you find 4 sentences?  Or perhaps, all 19 words?\""
   ]
  },
  {
   "cell_type": "code",
   "execution_count": 4,
   "id": "027038aa",
   "metadata": {},
   "outputs": [
    {
     "name": "stdout",
     "output_type": "stream",
     "text": [
      "[\"Let's write RegEx\", \"  Won't that be fun\", '  I sure think so', '  Can you find 4 sentences', '  Or perhaps, all 19 words', '']\n",
      "['Let', 'RegEx', 'Won', 'Can', 'Or']\n",
      "[\"Let's\", 'write', 'RegEx!', \"Won't\", 'that', 'be', 'fun?', 'I', 'sure', 'think', 'so.', 'Can', 'you', 'find', '4', 'sentences?', 'Or', 'perhaps,', 'all', '19', 'words?']\n",
      "['4', '19']\n"
     ]
    }
   ],
   "source": [
    "# Write a pattern to match sentence endings: sentence_endings\n",
    "sentence_endings = r\"[.?!]\"\n",
    "\n",
    "# Split my_string on sentence endings and print the result\n",
    "print(re.split(sentence_endings, my_string))\n",
    "\n",
    "# Find all capicalized words in my_string and print the result\n",
    "capitalized_words = r\"[A-Z]\\w+\"\n",
    "print(re.findall(capitalized_words, my_string))\n",
    "\n",
    "# Split my_string on spaces and print the result\n",
    "spaces = r\"\\s+\"\n",
    "print(re.split(spaces, my_string))\n",
    "\n",
    "# Find all digits in my_string and print the result\n",
    "digits = r\"\\d+\"\n",
    "print(re.findall(digits, my_string))"
   ]
  },
  {
   "cell_type": "code",
   "execution_count": 8,
   "id": "7466e7e9",
   "metadata": {},
   "outputs": [
    {
     "name": "stderr",
     "output_type": "stream",
     "text": [
      "[nltk_data] Downloading package punkt to\n",
      "[nltk_data]     C:\\Users\\Marce\\AppData\\Roaming\\nltk_data...\n",
      "[nltk_data]   Unzipping tokenizers\\punkt.zip.\n"
     ]
    },
    {
     "data": {
      "text/plain": [
       "True"
      ]
     },
     "execution_count": 8,
     "metadata": {},
     "output_type": "execute_result"
    }
   ],
   "source": [
    "import nltk\n",
    "from nltk.tokenize import word_tokenize\n",
    "nltk.download('punkt')"
   ]
  },
  {
   "cell_type": "code",
   "execution_count": 9,
   "id": "2c45f712",
   "metadata": {},
   "outputs": [
    {
     "data": {
      "text/plain": [
       "['Hi', 'there', '!']"
      ]
     },
     "execution_count": 9,
     "metadata": {},
     "output_type": "execute_result"
    }
   ],
   "source": [
    "word_tokenize(\"Hi there!\")"
   ]
  },
  {
   "cell_type": "code",
   "execution_count": 10,
   "id": "eb209124",
   "metadata": {},
   "outputs": [
    {
     "data": {
      "text/plain": [
       "<re.Match object; span=(0, 3), match='abc'>"
      ]
     },
     "execution_count": 10,
     "metadata": {},
     "output_type": "execute_result"
    }
   ],
   "source": [
    "# difference between re.search and re.match()\n",
    "\n",
    "import re\n",
    "re.match('abc', 'abcde')"
   ]
  },
  {
   "cell_type": "code",
   "execution_count": 11,
   "id": "701c4fe2",
   "metadata": {},
   "outputs": [
    {
     "data": {
      "text/plain": [
       "<re.Match object; span=(0, 3), match='abc'>"
      ]
     },
     "execution_count": 11,
     "metadata": {},
     "output_type": "execute_result"
    }
   ],
   "source": [
    "re.search('abc', 'abcde')"
   ]
  },
  {
   "cell_type": "code",
   "execution_count": 13,
   "id": "a54485bd",
   "metadata": {},
   "outputs": [
    {
     "data": {
      "text/plain": [
       "<re.Match object; span=(2, 4), match='cd'>"
      ]
     },
     "execution_count": 13,
     "metadata": {},
     "output_type": "execute_result"
    }
   ],
   "source": [
    "re.match('cd', 'abcde')\n",
    "re.search('cd', 'abcde')"
   ]
  },
  {
   "cell_type": "code",
   "execution_count": 22,
   "id": "941b354b",
   "metadata": {},
   "outputs": [],
   "source": [
    "with open('grail.txt', 'r') as file:\n",
    "    holy_grail = file.read()\n",
    "    scene_one = re.split('SCENE 2:', holy_grail)[0]"
   ]
  },
  {
   "cell_type": "code",
   "execution_count": 23,
   "id": "d8bbf19f",
   "metadata": {},
   "outputs": [
    {
     "data": {
      "text/plain": [
       "'\"SCENE 1: [wind] [clop clop clop] \\\\nKING ARTHUR: Whoa there!  [clop clop clop] \\\\nSOLDIER #1: Halt!  Who goes there?\\\\nARTHUR: It is I, Arthur, son of Uther Pendragon, from the castle of Camelot.  King of the Britons, defeator of the Saxons, sovereign of all England!\\\\nSOLDIER #1: Pull the other one!\\\\nARTHUR: I am, ...  and this is my trusty servant Patsy.  We have ridden the length and breadth of the land in search of knights who will join me in my court at Camelot.  I must speak with your lord and master.\\\\nSOLDIER #1: What?  Ridden on a horse?\\\\nARTHUR: Yes!\\\\nSOLDIER #1: You\\'re using coconuts!\\\\nARTHUR: What?\\\\nSOLDIER #1: You\\'ve got two empty halves of coconut and you\\'re bangin\\' \\'em together.\\\\nARTHUR: So?  We have ridden since the snows of winter covered this land, through the kingdom of Mercea, through--\\\\nSOLDIER #1: Where\\'d you get the coconuts?\\\\nARTHUR: We found them.\\\\nSOLDIER #1: Found them?  In Mercea?  The coconut\\'s tropical!\\\\nARTHUR: What do you mean?\\\\nSOLDIER #1: Well, this is a temperate zone.\\\\nARTHUR: The swallow may fly south with the sun or the house martin or the plover may seek warmer climes in winter, yet these are not strangers to our land?\\\\nSOLDIER #1: Are you suggesting coconuts migrate?\\\\nARTHUR: Not at all.  They could be carried.\\\\nSOLDIER #1: What?  A swallow carrying a coconut?\\\\nARTHUR: It could grip it by the husk!\\\\nSOLDIER #1: It\\'s not a question of where he grips it!  It\\'s a simple question of weight ratios!  A five ounce bird could not carry a one pound coconut.\\\\nARTHUR: Well, it doesn\\'t matter.  Will you go and tell your master that Arthur from the Court of Camelot is here.\\\\nSOLDIER #1: Listen.  In order to maintain air-speed velocity, a swallow needs to beat its wings forty-three times every second, right?\\\\nARTHUR: Please!\\\\nSOLDIER #1: Am I right?\\\\nARTHUR: I\\'m not interested!\\\\nSOLDIER #2: It could be carried by an African swallow!\\\\nSOLDIER #1: Oh, yeah, an African swallow maybe, but not a European swallow.  That\\'s my point.\\\\nSOLDIER #2: Oh, yeah, I agree with that.\\\\nARTHUR: Will you ask your master if he wants to join my court at Camelot?!\\\\nSOLDIER #1: But then of course a-- African swallows are non-migratory.\\\\nSOLDIER #2: Oh, yeah...\\\\nSOLDIER #1: So they couldn\\'t bring a coconut back anyway...  [clop clop clop] \\\\nSOLDIER #2: Wait a minute!  Supposing two swallows carried it together?\\\\nSOLDIER #1: No, they\\'d have to have it on a line.\\\\nSOLDIER #2: Well, simple!  They\\'d just use a strand of creeper!\\\\nSOLDIER #1: What, held under the dorsal guiding feathers?\\\\nSOLDIER #2: Well, why not?\\\\n\"'"
      ]
     },
     "execution_count": 23,
     "metadata": {},
     "output_type": "execute_result"
    }
   ],
   "source": [
    "scene_one"
   ]
  },
  {
   "cell_type": "code",
   "execution_count": 24,
   "id": "99ba2dcd",
   "metadata": {},
   "outputs": [
    {
     "name": "stdout",
     "output_type": "stream",
     "text": [
      "{'anyway', 'Whoa', 'these', 'That', 'together.\\\\nARTHUR', 'you', 'since', 'using', 'Patsy', \"n't\", 'bird', \"'\", 'to', 'tell', 'bangin', 'its', 'from', 'Wait', 'In', 'You', 'creeper', 'Halt', \"'em\", 'grips', 'they', 'other', 'will', 'mean', 'Well', 'Pull', 'coconut', 'carry', 'kingdom', 'velocity', 'right', '?', 'not', 'coconuts', 'Am', 'ratios', '--', '#', 'five', 'of', '``', 'court', 'house', 'just', 'under', 'air-speed', 'am', 'Court', 'speak', 'husk', 'Ridden', 'beat', 'that.\\\\nARTHUR', 'my', 'yet', 'Supposing', 'Who', 'son', 'We', 'seek', \"'d\", 'tropical', 'an', 'our', 'fly', 'master.\\\\nSOLDIER', 'your', 'But', 'interested', 'why', 'swallows', 'agree', 'ridden', 'horse', 'search', 'are', 'bring', 'one', 'breadth', 'sovereign', 'pound', 'knights', 'matter', 'and', 'King', 'Saxons', 'ounce', '\\\\n', 'ask', 'line.\\\\nSOLDIER', 'lord', 'minute', ':', 'They', 'empty', 'martin', 'guiding', 'carried', 'could', 'A', 'ARTHUR', 'do', 'with', 'there', 'The', 'migrate', 'carrying', 'grip', 'maybe', 'point.\\\\nSOLDIER', 'snows', 'may', 'wind', 'sun', 'wings', 'who', 'at', 'go', 'SCENE', 'must', '\\\\nSOLDIER', 'it', \"'m\", 'all', 'simple', 'goes', 'England', 'me', 'Yes', 'or', 'African', 'maintain', 'this', \"'ve\", 'times', 'carried.\\\\nSOLDIER', 'but', 'strangers', 'suggesting', 'master', 'feathers', '\\\\nKING', 'Listen', 'Camelot', \"''\", 'defeator', 'them', 'does', \"'re\", 'zone.\\\\nARTHUR', 'by', 'second', 'strand', 'yeah', 'plover', 'Are', '!', 'temperate', '1', 'I', 'Oh', 'Will', 'No', 'held', 'Pendragon', 'Britons', 'if', 'course', 'back', 'here.\\\\nSOLDIER', 'Not', 'covered', 'south', 'on', 'question', 'clop', 'join', 'length', 'servant', 'them.\\\\nSOLDIER', '...', 'in', 'It', '2', 'Mercea', \"'s\", 'found', '[', 'swallow', 'halves', '\\\\nARTHUR', 'wants', ']', 'every', 'the', 'where', 'Please', 'a', 'land', 'order', 'then', 'trusty', ',', 'warmer', 'What', 'Found', 'Arthur', 'Where', 'So', 'coconut.\\\\nARTHUR', 'needs', 'castle', 'be', 'forty-three', 'together', 'through', 'winter', 'got', 'two', 'that', 'non-migratory.\\\\nSOLDIER', 'weight', 'climes', 'Uther', '.', 'get', 'European', 'use', 'dorsal', 'is', 'he', 'have'}\n"
     ]
    }
   ],
   "source": [
    "# Import necessary modules\n",
    "import nltk\n",
    "import re\n",
    "from nltk.tokenize import word_tokenize\n",
    "from nltk.tokenize import sent_tokenize\n",
    "\n",
    "# Split scene_one into sentences: sentences\n",
    "sentences = sent_tokenize(scene_one)\n",
    "\n",
    "# Use word_tokenize to tokenize the fourth sentence: tokenized_sent\n",
    "tokenized_sent = word_tokenize(sentences[3])\n",
    "\n",
    "# Make a set of unique tokens in the entire scene: unique_tokens\n",
    "unique_tokens = set(word_tokenize(scene_one))\n",
    "\n",
    "# Print the unique tokens result\n",
    "print(unique_tokens)"
   ]
  },
  {
   "cell_type": "code",
   "execution_count": null,
   "id": "b20dd7b0",
   "metadata": {},
   "outputs": [],
   "source": []
  }
 ],
 "metadata": {
  "kernelspec": {
   "display_name": "Python 3 (ipykernel)",
   "language": "python",
   "name": "python3"
  },
  "language_info": {
   "codemirror_mode": {
    "name": "ipython",
    "version": 3
   },
   "file_extension": ".py",
   "mimetype": "text/x-python",
   "name": "python",
   "nbconvert_exporter": "python",
   "pygments_lexer": "ipython3",
   "version": "3.9.7"
  }
 },
 "nbformat": 4,
 "nbformat_minor": 5
}
